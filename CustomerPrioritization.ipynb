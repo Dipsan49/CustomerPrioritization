{
 "cells": [
  {
   "cell_type": "markdown",
   "id": "bb7bd321",
   "metadata": {},
   "source": [
    "# DATA COLLECTION"
   ]
  },
  {
   "cell_type": "code",
   "execution_count": 1,
   "id": "eb3844b6",
   "metadata": {},
   "outputs": [],
   "source": [
    "import pandas as pd\n",
    "dataset = pd.read_csv(\"ecommerceDataset.csv\")"
   ]
  },
  {
   "cell_type": "code",
   "execution_count": 2,
   "id": "022691d0",
   "metadata": {},
   "outputs": [
    {
     "data": {
      "text/html": [
       "<div>\n",
       "<style scoped>\n",
       "    .dataframe tbody tr th:only-of-type {\n",
       "        vertical-align: middle;\n",
       "    }\n",
       "\n",
       "    .dataframe tbody tr th {\n",
       "        vertical-align: top;\n",
       "    }\n",
       "\n",
       "    .dataframe thead th {\n",
       "        text-align: right;\n",
       "    }\n",
       "</style>\n",
       "<table border=\"1\" class=\"dataframe\">\n",
       "  <thead>\n",
       "    <tr style=\"text-align: right;\">\n",
       "      <th></th>\n",
       "      <th>event_time</th>\n",
       "      <th>order_id</th>\n",
       "      <th>product_id</th>\n",
       "      <th>category_id</th>\n",
       "      <th>category_code</th>\n",
       "      <th>brand</th>\n",
       "      <th>price</th>\n",
       "      <th>user_id</th>\n",
       "    </tr>\n",
       "  </thead>\n",
       "  <tbody>\n",
       "    <tr>\n",
       "      <th>0</th>\n",
       "      <td>2020-04-24 11:50:39 UTC</td>\n",
       "      <td>2.294360e+18</td>\n",
       "      <td>1.515970e+18</td>\n",
       "      <td>2.268110e+18</td>\n",
       "      <td>electronics.tablet</td>\n",
       "      <td>samsung</td>\n",
       "      <td>162.01</td>\n",
       "      <td>1.515920e+18</td>\n",
       "    </tr>\n",
       "    <tr>\n",
       "      <th>1</th>\n",
       "      <td>2020-04-24 11:50:39 UTC</td>\n",
       "      <td>2.294360e+18</td>\n",
       "      <td>1.515970e+18</td>\n",
       "      <td>2.268110e+18</td>\n",
       "      <td>electronics.tablet</td>\n",
       "      <td>samsung</td>\n",
       "      <td>162.01</td>\n",
       "      <td>1.515920e+18</td>\n",
       "    </tr>\n",
       "    <tr>\n",
       "      <th>2</th>\n",
       "      <td>2020-04-24 14:37:43 UTC</td>\n",
       "      <td>2.294440e+18</td>\n",
       "      <td>2.273950e+18</td>\n",
       "      <td>2.268110e+18</td>\n",
       "      <td>electronics.audio.headphone</td>\n",
       "      <td>huawei</td>\n",
       "      <td>77.52</td>\n",
       "      <td>1.515920e+18</td>\n",
       "    </tr>\n",
       "    <tr>\n",
       "      <th>3</th>\n",
       "      <td>2020-04-24 14:37:43 UTC</td>\n",
       "      <td>2.294440e+18</td>\n",
       "      <td>2.273950e+18</td>\n",
       "      <td>2.268110e+18</td>\n",
       "      <td>electronics.audio.headphone</td>\n",
       "      <td>huawei</td>\n",
       "      <td>77.52</td>\n",
       "      <td>1.515920e+18</td>\n",
       "    </tr>\n",
       "    <tr>\n",
       "      <th>4</th>\n",
       "      <td>2020-04-24 19:16:21 UTC</td>\n",
       "      <td>2.294580e+18</td>\n",
       "      <td>2.273950e+18</td>\n",
       "      <td>2.268110e+18</td>\n",
       "      <td>NaN</td>\n",
       "      <td>karcher</td>\n",
       "      <td>217.57</td>\n",
       "      <td>1.515920e+18</td>\n",
       "    </tr>\n",
       "  </tbody>\n",
       "</table>\n",
       "</div>"
      ],
      "text/plain": [
       "                event_time      order_id    product_id   category_id  \\\n",
       "0  2020-04-24 11:50:39 UTC  2.294360e+18  1.515970e+18  2.268110e+18   \n",
       "1  2020-04-24 11:50:39 UTC  2.294360e+18  1.515970e+18  2.268110e+18   \n",
       "2  2020-04-24 14:37:43 UTC  2.294440e+18  2.273950e+18  2.268110e+18   \n",
       "3  2020-04-24 14:37:43 UTC  2.294440e+18  2.273950e+18  2.268110e+18   \n",
       "4  2020-04-24 19:16:21 UTC  2.294580e+18  2.273950e+18  2.268110e+18   \n",
       "\n",
       "                 category_code    brand   price       user_id  \n",
       "0           electronics.tablet  samsung  162.01  1.515920e+18  \n",
       "1           electronics.tablet  samsung  162.01  1.515920e+18  \n",
       "2  electronics.audio.headphone   huawei   77.52  1.515920e+18  \n",
       "3  electronics.audio.headphone   huawei   77.52  1.515920e+18  \n",
       "4                          NaN  karcher  217.57  1.515920e+18  "
      ]
     },
     "execution_count": 2,
     "metadata": {},
     "output_type": "execute_result"
    }
   ],
   "source": [
    "dataset.head()"
   ]
  },
  {
   "cell_type": "code",
   "execution_count": 2,
   "id": "8e19c9f2",
   "metadata": {},
   "outputs": [
    {
     "data": {
      "text/html": [
       "<div>\n",
       "<style scoped>\n",
       "    .dataframe tbody tr th:only-of-type {\n",
       "        vertical-align: middle;\n",
       "    }\n",
       "\n",
       "    .dataframe tbody tr th {\n",
       "        vertical-align: top;\n",
       "    }\n",
       "\n",
       "    .dataframe thead th {\n",
       "        text-align: right;\n",
       "    }\n",
       "</style>\n",
       "<table border=\"1\" class=\"dataframe\">\n",
       "  <thead>\n",
       "    <tr style=\"text-align: right;\">\n",
       "      <th></th>\n",
       "      <th>order_id</th>\n",
       "      <th>product_id</th>\n",
       "      <th>category_id</th>\n",
       "      <th>price</th>\n",
       "      <th>user_id</th>\n",
       "    </tr>\n",
       "  </thead>\n",
       "  <tbody>\n",
       "    <tr>\n",
       "      <th>count</th>\n",
       "      <td>2.633521e+06</td>\n",
       "      <td>2.633521e+06</td>\n",
       "      <td>2.201567e+06</td>\n",
       "      <td>2.201567e+06</td>\n",
       "      <td>5.641690e+05</td>\n",
       "    </tr>\n",
       "    <tr>\n",
       "      <th>mean</th>\n",
       "      <td>2.361783e+18</td>\n",
       "      <td>1.674080e+18</td>\n",
       "      <td>2.273827e+18</td>\n",
       "      <td>1.540932e+02</td>\n",
       "      <td>1.515916e+18</td>\n",
       "    </tr>\n",
       "    <tr>\n",
       "      <th>std</th>\n",
       "      <td>1.716538e+16</td>\n",
       "      <td>3.102249e+17</td>\n",
       "      <td>2.353247e+16</td>\n",
       "      <td>2.419421e+02</td>\n",
       "      <td>2.379057e+07</td>\n",
       "    </tr>\n",
       "    <tr>\n",
       "      <th>min</th>\n",
       "      <td>2.294360e+18</td>\n",
       "      <td>1.515966e+18</td>\n",
       "      <td>2.268105e+18</td>\n",
       "      <td>0.000000e+00</td>\n",
       "      <td>1.515916e+18</td>\n",
       "    </tr>\n",
       "    <tr>\n",
       "      <th>25%</th>\n",
       "      <td>2.348807e+18</td>\n",
       "      <td>1.515966e+18</td>\n",
       "      <td>2.268105e+18</td>\n",
       "      <td>1.456000e+01</td>\n",
       "      <td>1.515916e+18</td>\n",
       "    </tr>\n",
       "    <tr>\n",
       "      <th>50%</th>\n",
       "      <td>2.353254e+18</td>\n",
       "      <td>1.515966e+18</td>\n",
       "      <td>2.268105e+18</td>\n",
       "      <td>5.553000e+01</td>\n",
       "      <td>1.515916e+18</td>\n",
       "    </tr>\n",
       "    <tr>\n",
       "      <th>75%</th>\n",
       "      <td>2.383131e+18</td>\n",
       "      <td>1.515966e+18</td>\n",
       "      <td>2.268105e+18</td>\n",
       "      <td>1.967400e+02</td>\n",
       "      <td>1.515916e+18</td>\n",
       "    </tr>\n",
       "    <tr>\n",
       "      <th>max</th>\n",
       "      <td>2.388441e+18</td>\n",
       "      <td>2.388434e+18</td>\n",
       "      <td>2.374499e+18</td>\n",
       "      <td>5.092590e+04</td>\n",
       "      <td>1.515916e+18</td>\n",
       "    </tr>\n",
       "  </tbody>\n",
       "</table>\n",
       "</div>"
      ],
      "text/plain": [
       "           order_id    product_id   category_id         price       user_id\n",
       "count  2.633521e+06  2.633521e+06  2.201567e+06  2.201567e+06  5.641690e+05\n",
       "mean   2.361783e+18  1.674080e+18  2.273827e+18  1.540932e+02  1.515916e+18\n",
       "std    1.716538e+16  3.102249e+17  2.353247e+16  2.419421e+02  2.379057e+07\n",
       "min    2.294360e+18  1.515966e+18  2.268105e+18  0.000000e+00  1.515916e+18\n",
       "25%    2.348807e+18  1.515966e+18  2.268105e+18  1.456000e+01  1.515916e+18\n",
       "50%    2.353254e+18  1.515966e+18  2.268105e+18  5.553000e+01  1.515916e+18\n",
       "75%    2.383131e+18  1.515966e+18  2.268105e+18  1.967400e+02  1.515916e+18\n",
       "max    2.388441e+18  2.388434e+18  2.374499e+18  5.092590e+04  1.515916e+18"
      ]
     },
     "execution_count": 2,
     "metadata": {},
     "output_type": "execute_result"
    }
   ],
   "source": [
    "dataset.describe()"
   ]
  },
  {
   "cell_type": "code",
   "execution_count": 3,
   "id": "68e0ca81",
   "metadata": {},
   "outputs": [
    {
     "data": {
      "text/plain": [
       "2633521"
      ]
     },
     "execution_count": 3,
     "metadata": {},
     "output_type": "execute_result"
    }
   ],
   "source": [
    "len(dataset)"
   ]
  },
  {
   "cell_type": "code",
   "execution_count": 4,
   "id": "aee9c89d",
   "metadata": {},
   "outputs": [
    {
     "name": "stdout",
     "output_type": "stream",
     "text": [
      "2.361782829757762e+18\n"
     ]
    }
   ],
   "source": [
    "import numpy as np\n",
    "u = dataset['order_id'].mean()\n",
    "print(u)"
   ]
  },
  {
   "cell_type": "code",
   "execution_count": 5,
   "id": "6ff45882",
   "metadata": {},
   "outputs": [],
   "source": [
    "maxim = dataset['order_id'].max()\n",
    "minim = dataset['order_id'].min()"
   ]
  },
  {
   "cell_type": "code",
   "execution_count": 6,
   "id": "20c780a5",
   "metadata": {},
   "outputs": [
    {
     "name": "stdout",
     "output_type": "stream",
     "text": [
      "2388440981134693944\n",
      "2294359932054536986\n"
     ]
    }
   ],
   "source": [
    "print(maxim)\n",
    "print(minim)"
   ]
  },
  {
   "cell_type": "markdown",
   "id": "4d9544bc",
   "metadata": {},
   "source": [
    "# DATA PREPROCESSING:"
   ]
  },
  {
   "cell_type": "markdown",
   "id": "eef8a58d",
   "metadata": {},
   "source": [
    "# 1. Handling Missing Values"
   ]
  },
  {
   "cell_type": "code",
   "execution_count": 7,
   "id": "3add6afc",
   "metadata": {},
   "outputs": [
    {
     "name": "stdout",
     "output_type": "stream",
     "text": [
      "event_time             0\n",
      "order_id               0\n",
      "product_id             0\n",
      "category_id       431954\n",
      "category_code     612202\n",
      "brand             506005\n",
      "price             431954\n",
      "user_id          2069352\n",
      "dtype: int64\n",
      "\n",
      "Missing Values After Handling:\n",
      "event_time       0\n",
      "order_id         0\n",
      "product_id       0\n",
      "category_id      0\n",
      "category_code    0\n",
      "brand            0\n",
      "price            0\n",
      "user_id          0\n",
      "dtype: int64\n"
     ]
    }
   ],
   "source": [
    "print(dataset.isnull().sum())\n",
    "\n",
    "string_columns = dataset.select_dtypes(include=['object']).columns\n",
    "numeric_columns = dataset.select_dtypes(include=['int', 'float']).columns\n",
    "\n",
    "for col in string_columns:\n",
    "    mode_value = dataset[col].mode()[0]  # Get the mode value for imputation\n",
    "    dataset[col].fillna(mode_value, inplace=True)\n",
    "\n",
    "for col in numeric_columns:\n",
    "    mean_value = dataset[col].mean()  # Get the mean value for imputation\n",
    "    dataset[col].fillna(mean_value, inplace=True)\n",
    "\n",
    "print(\"\\nMissing Values After Handling:\")\n",
    "print(dataset.isnull().sum())"
   ]
  },
  {
   "cell_type": "markdown",
   "id": "2ca3f97e",
   "metadata": {},
   "source": [
    "# 2. Normalization: Assigning Sequential ids"
   ]
  },
  {
   "cell_type": "code",
   "execution_count": 8,
   "id": "ea6e7256",
   "metadata": {},
   "outputs": [],
   "source": [
    "# Function to assign sequential IDs\n",
    "def assign_sequential_ids(data_column):\n",
    "    id_mapping = {}\n",
    "    sequential_id = 1\n",
    "    sequential_ids = []\n",
    "    for value in data_column:\n",
    "        if value not in id_mapping:\n",
    "            id_mapping[value] = sequential_id\n",
    "            sequential_ids.append(sequential_id)\n",
    "            sequential_id += 1\n",
    "        else:\n",
    "            sequential_ids.append(id_mapping[value])\n",
    "    return sequential_ids\n"
   ]
  },
  {
   "cell_type": "code",
   "execution_count": 9,
   "id": "e2068249",
   "metadata": {},
   "outputs": [
    {
     "name": "stdout",
     "output_type": "stream",
     "text": [
      "              user_id  sequential_user_id           product_id  \\\n",
      "0        1.515916e+18                   1  1515966223509089906   \n",
      "1        1.515916e+18                   1  1515966223509089906   \n",
      "2        1.515916e+18                   2  2273948319057183658   \n",
      "3        1.515916e+18                   2  2273948319057183658   \n",
      "4        1.515916e+18                   3  2273948316817424439   \n",
      "...               ...                 ...                  ...   \n",
      "2633516  1.515916e+18               98254  1515966223526602848   \n",
      "2633517  1.515916e+18               98262  1515966223509089282   \n",
      "2633518  1.515916e+18               98263  1515966223509089917   \n",
      "2633519  1.515916e+18               98263  2273948184839454837   \n",
      "2633520  1.515916e+18               98263  1515966223509127566   \n",
      "\n",
      "         sequential_product_id             order_id  sequential_order_id  \\\n",
      "0                            1  2294359932054536986                    1   \n",
      "1                            1  2294359932054536986                    1   \n",
      "2                            2  2294444024058086220                    2   \n",
      "3                            2  2294444024058086220                    2   \n",
      "4                            3  2294584263154074236                    3   \n",
      "...                        ...                  ...                  ...   \n",
      "2633516                   8254  2388440981134693942              1435264   \n",
      "2633517                    818  2388440981134693943              1435265   \n",
      "2633518                   1936  2388440981134693944              1435266   \n",
      "2633519                   8191  2388440981134693944              1435266   \n",
      "2633520                   1343  2388440981134693944              1435266   \n",
      "\n",
      "          category_id  sequential_category_id  \n",
      "0        2.268105e+18                       1  \n",
      "1        2.268105e+18                       1  \n",
      "2        2.268105e+18                       2  \n",
      "3        2.268105e+18                       2  \n",
      "4        2.268105e+18                       3  \n",
      "...               ...                     ...  \n",
      "2633516  2.268105e+18                       5  \n",
      "2633517  2.268105e+18                       5  \n",
      "2633518  2.268105e+18                       7  \n",
      "2633519  2.268105e+18                     184  \n",
      "2633520  2.268105e+18                      22  \n",
      "\n",
      "[2633521 rows x 8 columns]\n"
     ]
    }
   ],
   "source": [
    "dataset['sequential_user_id'] = assign_sequential_ids(dataset['user_id'])\n",
    "dataset['sequential_product_id'] = assign_sequential_ids(dataset['product_id'])\n",
    "dataset['sequential_order_id'] = assign_sequential_ids(dataset['order_id'])\n",
    "dataset['sequential_category_id'] = assign_sequential_ids(dataset['category_id'])\n",
    "\n",
    "# Example usage\n",
    "print(dataset[['user_id', 'sequential_user_id', 'product_id', 'sequential_product_id', \n",
    "          'order_id', 'sequential_order_id', 'category_id', 'sequential_category_id']])\n"
   ]
  },
  {
   "cell_type": "code",
   "execution_count": 10,
   "id": "944e6733",
   "metadata": {},
   "outputs": [],
   "source": [
    "dataset.drop(columns=['user_id', 'product_id', 'order_id', 'category_id'], inplace=True)"
   ]
  },
  {
   "cell_type": "code",
   "execution_count": 11,
   "id": "9c5188c0",
   "metadata": {},
   "outputs": [
    {
     "data": {
      "text/html": [
       "<div>\n",
       "<style scoped>\n",
       "    .dataframe tbody tr th:only-of-type {\n",
       "        vertical-align: middle;\n",
       "    }\n",
       "\n",
       "    .dataframe tbody tr th {\n",
       "        vertical-align: top;\n",
       "    }\n",
       "\n",
       "    .dataframe thead th {\n",
       "        text-align: right;\n",
       "    }\n",
       "</style>\n",
       "<table border=\"1\" class=\"dataframe\">\n",
       "  <thead>\n",
       "    <tr style=\"text-align: right;\">\n",
       "      <th></th>\n",
       "      <th>event_time</th>\n",
       "      <th>category_code</th>\n",
       "      <th>brand</th>\n",
       "      <th>price</th>\n",
       "      <th>sequential_user_id</th>\n",
       "      <th>sequential_product_id</th>\n",
       "      <th>sequential_order_id</th>\n",
       "      <th>sequential_category_id</th>\n",
       "    </tr>\n",
       "  </thead>\n",
       "  <tbody>\n",
       "    <tr>\n",
       "      <th>0</th>\n",
       "      <td>2020-04-24 11:50:39 UTC</td>\n",
       "      <td>electronics.tablet</td>\n",
       "      <td>samsung</td>\n",
       "      <td>162.01</td>\n",
       "      <td>1</td>\n",
       "      <td>1</td>\n",
       "      <td>1</td>\n",
       "      <td>1</td>\n",
       "    </tr>\n",
       "    <tr>\n",
       "      <th>1</th>\n",
       "      <td>2020-04-24 11:50:39 UTC</td>\n",
       "      <td>electronics.tablet</td>\n",
       "      <td>samsung</td>\n",
       "      <td>162.01</td>\n",
       "      <td>1</td>\n",
       "      <td>1</td>\n",
       "      <td>1</td>\n",
       "      <td>1</td>\n",
       "    </tr>\n",
       "    <tr>\n",
       "      <th>2</th>\n",
       "      <td>2020-04-24 14:37:43 UTC</td>\n",
       "      <td>electronics.audio.headphone</td>\n",
       "      <td>huawei</td>\n",
       "      <td>77.52</td>\n",
       "      <td>2</td>\n",
       "      <td>2</td>\n",
       "      <td>2</td>\n",
       "      <td>2</td>\n",
       "    </tr>\n",
       "    <tr>\n",
       "      <th>3</th>\n",
       "      <td>2020-04-24 14:37:43 UTC</td>\n",
       "      <td>electronics.audio.headphone</td>\n",
       "      <td>huawei</td>\n",
       "      <td>77.52</td>\n",
       "      <td>2</td>\n",
       "      <td>2</td>\n",
       "      <td>2</td>\n",
       "      <td>2</td>\n",
       "    </tr>\n",
       "    <tr>\n",
       "      <th>4</th>\n",
       "      <td>2020-04-24 19:16:21 UTC</td>\n",
       "      <td>electronics.smartphone</td>\n",
       "      <td>karcher</td>\n",
       "      <td>217.57</td>\n",
       "      <td>3</td>\n",
       "      <td>3</td>\n",
       "      <td>3</td>\n",
       "      <td>3</td>\n",
       "    </tr>\n",
       "  </tbody>\n",
       "</table>\n",
       "</div>"
      ],
      "text/plain": [
       "                event_time                category_code    brand   price  \\\n",
       "0  2020-04-24 11:50:39 UTC           electronics.tablet  samsung  162.01   \n",
       "1  2020-04-24 11:50:39 UTC           electronics.tablet  samsung  162.01   \n",
       "2  2020-04-24 14:37:43 UTC  electronics.audio.headphone   huawei   77.52   \n",
       "3  2020-04-24 14:37:43 UTC  electronics.audio.headphone   huawei   77.52   \n",
       "4  2020-04-24 19:16:21 UTC       electronics.smartphone  karcher  217.57   \n",
       "\n",
       "   sequential_user_id  sequential_product_id  sequential_order_id  \\\n",
       "0                   1                      1                    1   \n",
       "1                   1                      1                    1   \n",
       "2                   2                      2                    2   \n",
       "3                   2                      2                    2   \n",
       "4                   3                      3                    3   \n",
       "\n",
       "   sequential_category_id  \n",
       "0                       1  \n",
       "1                       1  \n",
       "2                       2  \n",
       "3                       2  \n",
       "4                       3  "
      ]
     },
     "execution_count": 11,
     "metadata": {},
     "output_type": "execute_result"
    }
   ],
   "source": [
    "dataset.head()"
   ]
  },
  {
   "cell_type": "code",
   "execution_count": null,
   "id": "e5f5baed",
   "metadata": {},
   "outputs": [],
   "source": []
  },
  {
   "cell_type": "markdown",
   "id": "5aeb7cb8",
   "metadata": {},
   "source": [
    "# Finding out the total number of orders per customer"
   ]
  },
  {
   "cell_type": "code",
   "execution_count": 12,
   "id": "a6f28a70",
   "metadata": {},
   "outputs": [
    {
     "name": "stdout",
     "output_type": "stream",
     "text": [
      "       sequential_user_id  total_orders\n",
      "0                       1             2\n",
      "1                       2             6\n",
      "2                       3             9\n",
      "3                       4             6\n",
      "4                       5            10\n",
      "...                   ...           ...\n",
      "98258               98259             1\n",
      "98259               98260             1\n",
      "98260               98261             1\n",
      "98261               98262             1\n",
      "98262               98263             3\n",
      "\n",
      "[98263 rows x 2 columns]\n"
     ]
    }
   ],
   "source": [
    "# Grouping orders by customer_id and counting the number of orders for each customer\n",
    "total_orders = dataset.groupby('sequential_user_id')['sequential_order_id'].count().reset_index()\n",
    "\n",
    "# Renaming the columns for better readability\n",
    "total_orders.columns = ['sequential_user_id', 'total_orders']\n",
    "\n",
    "# Displaying the total orders for each customer\n",
    "print(total_orders)\n",
    "\n",
    "\n"
   ]
  },
  {
   "cell_type": "code",
   "execution_count": null,
   "id": "4f901bf5",
   "metadata": {},
   "outputs": [],
   "source": []
  },
  {
   "cell_type": "markdown",
   "id": "f2971f4f",
   "metadata": {},
   "source": [
    "# Finding out the total amount spent by each user"
   ]
  },
  {
   "cell_type": "code",
   "execution_count": 13,
   "id": "4f985b5f",
   "metadata": {},
   "outputs": [
    {
     "name": "stdout",
     "output_type": "stream",
     "text": [
      "       sequential_user_id    price\n",
      "0                       1   324.02\n",
      "1                       2  2841.29\n",
      "2                       3  2101.64\n",
      "3                       4   642.92\n",
      "4                       5  8576.14\n",
      "...                   ...      ...\n",
      "98258               98259    46.97\n",
      "98259               98260   925.67\n",
      "98260               98261   925.67\n",
      "98261               98262   418.96\n",
      "98262               98263   107.34\n",
      "\n",
      "[98263 rows x 2 columns]\n"
     ]
    }
   ],
   "source": [
    "customer_spending = dataset.groupby('sequential_user_id')['price'].sum().reset_index()\n",
    "print(customer_spending)"
   ]
  },
  {
   "cell_type": "code",
   "execution_count": 14,
   "id": "7ac87c17",
   "metadata": {},
   "outputs": [],
   "source": [
    "dataset = pd.merge(dataset, customer_spending, on='sequential_user_id', suffixes=('', '_total_spent'))"
   ]
  },
  {
   "cell_type": "code",
   "execution_count": 15,
   "id": "cde24bfc",
   "metadata": {},
   "outputs": [
    {
     "data": {
      "text/html": [
       "<div>\n",
       "<style scoped>\n",
       "    .dataframe tbody tr th:only-of-type {\n",
       "        vertical-align: middle;\n",
       "    }\n",
       "\n",
       "    .dataframe tbody tr th {\n",
       "        vertical-align: top;\n",
       "    }\n",
       "\n",
       "    .dataframe thead th {\n",
       "        text-align: right;\n",
       "    }\n",
       "</style>\n",
       "<table border=\"1\" class=\"dataframe\">\n",
       "  <thead>\n",
       "    <tr style=\"text-align: right;\">\n",
       "      <th></th>\n",
       "      <th>event_time</th>\n",
       "      <th>category_code</th>\n",
       "      <th>brand</th>\n",
       "      <th>price</th>\n",
       "      <th>sequential_user_id</th>\n",
       "      <th>sequential_product_id</th>\n",
       "      <th>sequential_order_id</th>\n",
       "      <th>sequential_category_id</th>\n",
       "      <th>price_total_spent</th>\n",
       "    </tr>\n",
       "  </thead>\n",
       "  <tbody>\n",
       "    <tr>\n",
       "      <th>0</th>\n",
       "      <td>2020-04-24 11:50:39 UTC</td>\n",
       "      <td>electronics.tablet</td>\n",
       "      <td>samsung</td>\n",
       "      <td>162.01</td>\n",
       "      <td>1</td>\n",
       "      <td>1</td>\n",
       "      <td>1</td>\n",
       "      <td>1</td>\n",
       "      <td>324.02</td>\n",
       "    </tr>\n",
       "    <tr>\n",
       "      <th>1</th>\n",
       "      <td>2020-04-24 11:50:39 UTC</td>\n",
       "      <td>electronics.tablet</td>\n",
       "      <td>samsung</td>\n",
       "      <td>162.01</td>\n",
       "      <td>1</td>\n",
       "      <td>1</td>\n",
       "      <td>1</td>\n",
       "      <td>1</td>\n",
       "      <td>324.02</td>\n",
       "    </tr>\n",
       "    <tr>\n",
       "      <th>2</th>\n",
       "      <td>2020-04-24 14:37:43 UTC</td>\n",
       "      <td>electronics.audio.headphone</td>\n",
       "      <td>huawei</td>\n",
       "      <td>77.52</td>\n",
       "      <td>2</td>\n",
       "      <td>2</td>\n",
       "      <td>2</td>\n",
       "      <td>2</td>\n",
       "      <td>2841.29</td>\n",
       "    </tr>\n",
       "    <tr>\n",
       "      <th>3</th>\n",
       "      <td>2020-04-24 14:37:43 UTC</td>\n",
       "      <td>electronics.audio.headphone</td>\n",
       "      <td>huawei</td>\n",
       "      <td>77.52</td>\n",
       "      <td>2</td>\n",
       "      <td>2</td>\n",
       "      <td>2</td>\n",
       "      <td>2</td>\n",
       "      <td>2841.29</td>\n",
       "    </tr>\n",
       "    <tr>\n",
       "      <th>4</th>\n",
       "      <td>2020-04-29 10:46:21 UTC</td>\n",
       "      <td>electronics.audio.headphone</td>\n",
       "      <td>huawei</td>\n",
       "      <td>77.52</td>\n",
       "      <td>2</td>\n",
       "      <td>2</td>\n",
       "      <td>21</td>\n",
       "      <td>2</td>\n",
       "      <td>2841.29</td>\n",
       "    </tr>\n",
       "  </tbody>\n",
       "</table>\n",
       "</div>"
      ],
      "text/plain": [
       "                event_time                category_code    brand   price  \\\n",
       "0  2020-04-24 11:50:39 UTC           electronics.tablet  samsung  162.01   \n",
       "1  2020-04-24 11:50:39 UTC           electronics.tablet  samsung  162.01   \n",
       "2  2020-04-24 14:37:43 UTC  electronics.audio.headphone   huawei   77.52   \n",
       "3  2020-04-24 14:37:43 UTC  electronics.audio.headphone   huawei   77.52   \n",
       "4  2020-04-29 10:46:21 UTC  electronics.audio.headphone   huawei   77.52   \n",
       "\n",
       "   sequential_user_id  sequential_product_id  sequential_order_id  \\\n",
       "0                   1                      1                    1   \n",
       "1                   1                      1                    1   \n",
       "2                   2                      2                    2   \n",
       "3                   2                      2                    2   \n",
       "4                   2                      2                   21   \n",
       "\n",
       "   sequential_category_id  price_total_spent  \n",
       "0                       1             324.02  \n",
       "1                       1             324.02  \n",
       "2                       2            2841.29  \n",
       "3                       2            2841.29  \n",
       "4                       2            2841.29  "
      ]
     },
     "execution_count": 15,
     "metadata": {},
     "output_type": "execute_result"
    }
   ],
   "source": [
    "dataset.head()"
   ]
  },
  {
   "cell_type": "code",
   "execution_count": 16,
   "id": "d011a7c1",
   "metadata": {},
   "outputs": [],
   "source": [
    "dataset = pd.merge(dataset, total_orders, on='sequential_user_id', suffixes=('', '_per_user'))\n"
   ]
  },
  {
   "cell_type": "code",
   "execution_count": 17,
   "id": "b5ed8caf",
   "metadata": {},
   "outputs": [
    {
     "data": {
      "text/html": [
       "<div>\n",
       "<style scoped>\n",
       "    .dataframe tbody tr th:only-of-type {\n",
       "        vertical-align: middle;\n",
       "    }\n",
       "\n",
       "    .dataframe tbody tr th {\n",
       "        vertical-align: top;\n",
       "    }\n",
       "\n",
       "    .dataframe thead th {\n",
       "        text-align: right;\n",
       "    }\n",
       "</style>\n",
       "<table border=\"1\" class=\"dataframe\">\n",
       "  <thead>\n",
       "    <tr style=\"text-align: right;\">\n",
       "      <th></th>\n",
       "      <th>event_time</th>\n",
       "      <th>category_code</th>\n",
       "      <th>brand</th>\n",
       "      <th>price</th>\n",
       "      <th>sequential_user_id</th>\n",
       "      <th>sequential_product_id</th>\n",
       "      <th>sequential_order_id</th>\n",
       "      <th>sequential_category_id</th>\n",
       "      <th>price_total_spent</th>\n",
       "      <th>total_orders</th>\n",
       "    </tr>\n",
       "  </thead>\n",
       "  <tbody>\n",
       "    <tr>\n",
       "      <th>0</th>\n",
       "      <td>2020-04-24 11:50:39 UTC</td>\n",
       "      <td>electronics.tablet</td>\n",
       "      <td>samsung</td>\n",
       "      <td>162.01</td>\n",
       "      <td>1</td>\n",
       "      <td>1</td>\n",
       "      <td>1</td>\n",
       "      <td>1</td>\n",
       "      <td>324.02</td>\n",
       "      <td>2</td>\n",
       "    </tr>\n",
       "    <tr>\n",
       "      <th>1</th>\n",
       "      <td>2020-04-24 11:50:39 UTC</td>\n",
       "      <td>electronics.tablet</td>\n",
       "      <td>samsung</td>\n",
       "      <td>162.01</td>\n",
       "      <td>1</td>\n",
       "      <td>1</td>\n",
       "      <td>1</td>\n",
       "      <td>1</td>\n",
       "      <td>324.02</td>\n",
       "      <td>2</td>\n",
       "    </tr>\n",
       "    <tr>\n",
       "      <th>2</th>\n",
       "      <td>2020-04-24 14:37:43 UTC</td>\n",
       "      <td>electronics.audio.headphone</td>\n",
       "      <td>huawei</td>\n",
       "      <td>77.52</td>\n",
       "      <td>2</td>\n",
       "      <td>2</td>\n",
       "      <td>2</td>\n",
       "      <td>2</td>\n",
       "      <td>2841.29</td>\n",
       "      <td>6</td>\n",
       "    </tr>\n",
       "    <tr>\n",
       "      <th>3</th>\n",
       "      <td>2020-04-24 14:37:43 UTC</td>\n",
       "      <td>electronics.audio.headphone</td>\n",
       "      <td>huawei</td>\n",
       "      <td>77.52</td>\n",
       "      <td>2</td>\n",
       "      <td>2</td>\n",
       "      <td>2</td>\n",
       "      <td>2</td>\n",
       "      <td>2841.29</td>\n",
       "      <td>6</td>\n",
       "    </tr>\n",
       "    <tr>\n",
       "      <th>4</th>\n",
       "      <td>2020-04-29 10:46:21 UTC</td>\n",
       "      <td>electronics.audio.headphone</td>\n",
       "      <td>huawei</td>\n",
       "      <td>77.52</td>\n",
       "      <td>2</td>\n",
       "      <td>2</td>\n",
       "      <td>21</td>\n",
       "      <td>2</td>\n",
       "      <td>2841.29</td>\n",
       "      <td>6</td>\n",
       "    </tr>\n",
       "  </tbody>\n",
       "</table>\n",
       "</div>"
      ],
      "text/plain": [
       "                event_time                category_code    brand   price  \\\n",
       "0  2020-04-24 11:50:39 UTC           electronics.tablet  samsung  162.01   \n",
       "1  2020-04-24 11:50:39 UTC           electronics.tablet  samsung  162.01   \n",
       "2  2020-04-24 14:37:43 UTC  electronics.audio.headphone   huawei   77.52   \n",
       "3  2020-04-24 14:37:43 UTC  electronics.audio.headphone   huawei   77.52   \n",
       "4  2020-04-29 10:46:21 UTC  electronics.audio.headphone   huawei   77.52   \n",
       "\n",
       "   sequential_user_id  sequential_product_id  sequential_order_id  \\\n",
       "0                   1                      1                    1   \n",
       "1                   1                      1                    1   \n",
       "2                   2                      2                    2   \n",
       "3                   2                      2                    2   \n",
       "4                   2                      2                   21   \n",
       "\n",
       "   sequential_category_id  price_total_spent  total_orders  \n",
       "0                       1             324.02             2  \n",
       "1                       1             324.02             2  \n",
       "2                       2            2841.29             6  \n",
       "3                       2            2841.29             6  \n",
       "4                       2            2841.29             6  "
      ]
     },
     "execution_count": 17,
     "metadata": {},
     "output_type": "execute_result"
    }
   ],
   "source": [
    "dataset.head()"
   ]
  },
  {
   "cell_type": "code",
   "execution_count": null,
   "id": "d0c2cb7f",
   "metadata": {},
   "outputs": [],
   "source": []
  },
  {
   "cell_type": "markdown",
   "id": "926f6ad5",
   "metadata": {},
   "source": [
    "Dropping duplicate tuples"
   ]
  },
  {
   "cell_type": "code",
   "execution_count": 18,
   "id": "c19115dc",
   "metadata": {},
   "outputs": [],
   "source": [
    "dataset = dataset.drop_duplicates(subset='sequential_user_id', keep='first')"
   ]
  },
  {
   "cell_type": "code",
   "execution_count": 19,
   "id": "67610603",
   "metadata": {},
   "outputs": [
    {
     "data": {
      "text/html": [
       "<div>\n",
       "<style scoped>\n",
       "    .dataframe tbody tr th:only-of-type {\n",
       "        vertical-align: middle;\n",
       "    }\n",
       "\n",
       "    .dataframe tbody tr th {\n",
       "        vertical-align: top;\n",
       "    }\n",
       "\n",
       "    .dataframe thead th {\n",
       "        text-align: right;\n",
       "    }\n",
       "</style>\n",
       "<table border=\"1\" class=\"dataframe\">\n",
       "  <thead>\n",
       "    <tr style=\"text-align: right;\">\n",
       "      <th></th>\n",
       "      <th>event_time</th>\n",
       "      <th>category_code</th>\n",
       "      <th>brand</th>\n",
       "      <th>price</th>\n",
       "      <th>sequential_user_id</th>\n",
       "      <th>sequential_product_id</th>\n",
       "      <th>sequential_order_id</th>\n",
       "      <th>sequential_category_id</th>\n",
       "      <th>price_total_spent</th>\n",
       "      <th>total_orders</th>\n",
       "    </tr>\n",
       "  </thead>\n",
       "  <tbody>\n",
       "    <tr>\n",
       "      <th>0</th>\n",
       "      <td>2020-04-24 11:50:39 UTC</td>\n",
       "      <td>electronics.tablet</td>\n",
       "      <td>samsung</td>\n",
       "      <td>162.01</td>\n",
       "      <td>1</td>\n",
       "      <td>1</td>\n",
       "      <td>1</td>\n",
       "      <td>1</td>\n",
       "      <td>324.02</td>\n",
       "      <td>2</td>\n",
       "    </tr>\n",
       "    <tr>\n",
       "      <th>2</th>\n",
       "      <td>2020-04-24 14:37:43 UTC</td>\n",
       "      <td>electronics.audio.headphone</td>\n",
       "      <td>huawei</td>\n",
       "      <td>77.52</td>\n",
       "      <td>2</td>\n",
       "      <td>2</td>\n",
       "      <td>2</td>\n",
       "      <td>2</td>\n",
       "      <td>2841.29</td>\n",
       "      <td>6</td>\n",
       "    </tr>\n",
       "    <tr>\n",
       "      <th>8</th>\n",
       "      <td>2020-04-24 19:16:21 UTC</td>\n",
       "      <td>electronics.smartphone</td>\n",
       "      <td>karcher</td>\n",
       "      <td>217.57</td>\n",
       "      <td>3</td>\n",
       "      <td>3</td>\n",
       "      <td>3</td>\n",
       "      <td>3</td>\n",
       "      <td>2101.64</td>\n",
       "      <td>9</td>\n",
       "    </tr>\n",
       "    <tr>\n",
       "      <th>17</th>\n",
       "      <td>2020-04-26 08:45:57 UTC</td>\n",
       "      <td>furniture.kitchen.table</td>\n",
       "      <td>maestro</td>\n",
       "      <td>39.33</td>\n",
       "      <td>4</td>\n",
       "      <td>4</td>\n",
       "      <td>4</td>\n",
       "      <td>4</td>\n",
       "      <td>642.92</td>\n",
       "      <td>6</td>\n",
       "    </tr>\n",
       "    <tr>\n",
       "      <th>23</th>\n",
       "      <td>2020-04-26 09:33:47 UTC</td>\n",
       "      <td>electronics.smartphone</td>\n",
       "      <td>apple</td>\n",
       "      <td>1387.01</td>\n",
       "      <td>5</td>\n",
       "      <td>5</td>\n",
       "      <td>5</td>\n",
       "      <td>5</td>\n",
       "      <td>8576.14</td>\n",
       "      <td>10</td>\n",
       "    </tr>\n",
       "  </tbody>\n",
       "</table>\n",
       "</div>"
      ],
      "text/plain": [
       "                 event_time                category_code    brand    price  \\\n",
       "0   2020-04-24 11:50:39 UTC           electronics.tablet  samsung   162.01   \n",
       "2   2020-04-24 14:37:43 UTC  electronics.audio.headphone   huawei    77.52   \n",
       "8   2020-04-24 19:16:21 UTC       electronics.smartphone  karcher   217.57   \n",
       "17  2020-04-26 08:45:57 UTC      furniture.kitchen.table  maestro    39.33   \n",
       "23  2020-04-26 09:33:47 UTC       electronics.smartphone    apple  1387.01   \n",
       "\n",
       "    sequential_user_id  sequential_product_id  sequential_order_id  \\\n",
       "0                    1                      1                    1   \n",
       "2                    2                      2                    2   \n",
       "8                    3                      3                    3   \n",
       "17                   4                      4                    4   \n",
       "23                   5                      5                    5   \n",
       "\n",
       "    sequential_category_id  price_total_spent  total_orders  \n",
       "0                        1             324.02             2  \n",
       "2                        2            2841.29             6  \n",
       "8                        3            2101.64             9  \n",
       "17                       4             642.92             6  \n",
       "23                       5            8576.14            10  "
      ]
     },
     "execution_count": 19,
     "metadata": {},
     "output_type": "execute_result"
    }
   ],
   "source": [
    "dataset.head()"
   ]
  },
  {
   "cell_type": "code",
   "execution_count": 20,
   "id": "b2b96cf2",
   "metadata": {},
   "outputs": [],
   "source": [
    "max_order_index = dataset['total_orders'].idxmax()\n",
    "dataset=dataset.drop(max_order_index)\n"
   ]
  },
  {
   "cell_type": "markdown",
   "id": "4bd16927",
   "metadata": {},
   "source": [
    "# Saving the dataset to a new csv file for analysis"
   ]
  },
  {
   "cell_type": "code",
   "execution_count": 21,
   "id": "8e67bf32",
   "metadata": {},
   "outputs": [],
   "source": [
    "dataset.to_csv(\"Order and price dataset.csv\")"
   ]
  },
  {
   "cell_type": "code",
   "execution_count": 22,
   "id": "c30d9c3c",
   "metadata": {},
   "outputs": [],
   "source": [
    "orders=pd.read_csv(\"Order and price dataset.csv\")"
   ]
  },
  {
   "cell_type": "code",
   "execution_count": null,
   "id": "d6174493",
   "metadata": {},
   "outputs": [],
   "source": []
  },
  {
   "cell_type": "markdown",
   "id": "b19c4916",
   "metadata": {},
   "source": [
    "# Finding out the most popular brand"
   ]
  },
  {
   "cell_type": "code",
   "execution_count": 23,
   "id": "9bf726a7",
   "metadata": {},
   "outputs": [
    {
     "name": "stdout",
     "output_type": "stream",
     "text": [
      "brand\n",
      "samsung    23383\n",
      "apple      10635\n",
      "ava         4797\n",
      "xiaomi      3963\n",
      "lg          3292\n",
      "Name: count, dtype: int64\n"
     ]
    }
   ],
   "source": [
    "brand_counts = orders['brand'].value_counts()\n",
    "\n",
    "# Sort the counts in descending order\n",
    "sorted_brand_counts = brand_counts.sort_values(ascending=False)\n",
    "\n",
    "# Print the top brands\n",
    "print(sorted_brand_counts.head())"
   ]
  },
  {
   "cell_type": "code",
   "execution_count": 24,
   "id": "ab34227f",
   "metadata": {},
   "outputs": [],
   "source": [
    "orders.drop(columns=['price'], inplace=True)\n",
    "#Since price is no longer in use for analysis. However we use the first dataset i.e. ez.csv to evaluate accuracy"
   ]
  },
  {
   "cell_type": "code",
   "execution_count": 25,
   "id": "eb3f7685",
   "metadata": {},
   "outputs": [
    {
     "data": {
      "text/html": [
       "<div>\n",
       "<style scoped>\n",
       "    .dataframe tbody tr th:only-of-type {\n",
       "        vertical-align: middle;\n",
       "    }\n",
       "\n",
       "    .dataframe tbody tr th {\n",
       "        vertical-align: top;\n",
       "    }\n",
       "\n",
       "    .dataframe thead th {\n",
       "        text-align: right;\n",
       "    }\n",
       "</style>\n",
       "<table border=\"1\" class=\"dataframe\">\n",
       "  <thead>\n",
       "    <tr style=\"text-align: right;\">\n",
       "      <th></th>\n",
       "      <th>Unnamed: 0</th>\n",
       "      <th>event_time</th>\n",
       "      <th>category_code</th>\n",
       "      <th>brand</th>\n",
       "      <th>sequential_user_id</th>\n",
       "      <th>sequential_product_id</th>\n",
       "      <th>sequential_order_id</th>\n",
       "      <th>sequential_category_id</th>\n",
       "      <th>price_total_spent</th>\n",
       "      <th>total_orders</th>\n",
       "    </tr>\n",
       "  </thead>\n",
       "  <tbody>\n",
       "    <tr>\n",
       "      <th>0</th>\n",
       "      <td>0</td>\n",
       "      <td>2020-04-24 11:50:39 UTC</td>\n",
       "      <td>electronics.tablet</td>\n",
       "      <td>samsung</td>\n",
       "      <td>1</td>\n",
       "      <td>1</td>\n",
       "      <td>1</td>\n",
       "      <td>1</td>\n",
       "      <td>324.02</td>\n",
       "      <td>2</td>\n",
       "    </tr>\n",
       "    <tr>\n",
       "      <th>1</th>\n",
       "      <td>2</td>\n",
       "      <td>2020-04-24 14:37:43 UTC</td>\n",
       "      <td>electronics.audio.headphone</td>\n",
       "      <td>huawei</td>\n",
       "      <td>2</td>\n",
       "      <td>2</td>\n",
       "      <td>2</td>\n",
       "      <td>2</td>\n",
       "      <td>2841.29</td>\n",
       "      <td>6</td>\n",
       "    </tr>\n",
       "    <tr>\n",
       "      <th>2</th>\n",
       "      <td>8</td>\n",
       "      <td>2020-04-24 19:16:21 UTC</td>\n",
       "      <td>electronics.smartphone</td>\n",
       "      <td>karcher</td>\n",
       "      <td>3</td>\n",
       "      <td>3</td>\n",
       "      <td>3</td>\n",
       "      <td>3</td>\n",
       "      <td>2101.64</td>\n",
       "      <td>9</td>\n",
       "    </tr>\n",
       "    <tr>\n",
       "      <th>3</th>\n",
       "      <td>17</td>\n",
       "      <td>2020-04-26 08:45:57 UTC</td>\n",
       "      <td>furniture.kitchen.table</td>\n",
       "      <td>maestro</td>\n",
       "      <td>4</td>\n",
       "      <td>4</td>\n",
       "      <td>4</td>\n",
       "      <td>4</td>\n",
       "      <td>642.92</td>\n",
       "      <td>6</td>\n",
       "    </tr>\n",
       "    <tr>\n",
       "      <th>4</th>\n",
       "      <td>23</td>\n",
       "      <td>2020-04-26 09:33:47 UTC</td>\n",
       "      <td>electronics.smartphone</td>\n",
       "      <td>apple</td>\n",
       "      <td>5</td>\n",
       "      <td>5</td>\n",
       "      <td>5</td>\n",
       "      <td>5</td>\n",
       "      <td>8576.14</td>\n",
       "      <td>10</td>\n",
       "    </tr>\n",
       "  </tbody>\n",
       "</table>\n",
       "</div>"
      ],
      "text/plain": [
       "   Unnamed: 0               event_time                category_code    brand  \\\n",
       "0           0  2020-04-24 11:50:39 UTC           electronics.tablet  samsung   \n",
       "1           2  2020-04-24 14:37:43 UTC  electronics.audio.headphone   huawei   \n",
       "2           8  2020-04-24 19:16:21 UTC       electronics.smartphone  karcher   \n",
       "3          17  2020-04-26 08:45:57 UTC      furniture.kitchen.table  maestro   \n",
       "4          23  2020-04-26 09:33:47 UTC       electronics.smartphone    apple   \n",
       "\n",
       "   sequential_user_id  sequential_product_id  sequential_order_id  \\\n",
       "0                   1                      1                    1   \n",
       "1                   2                      2                    2   \n",
       "2                   3                      3                    3   \n",
       "3                   4                      4                    4   \n",
       "4                   5                      5                    5   \n",
       "\n",
       "   sequential_category_id  price_total_spent  total_orders  \n",
       "0                       1             324.02             2  \n",
       "1                       2            2841.29             6  \n",
       "2                       3            2101.64             9  \n",
       "3                       4             642.92             6  \n",
       "4                       5            8576.14            10  "
      ]
     },
     "execution_count": 25,
     "metadata": {},
     "output_type": "execute_result"
    }
   ],
   "source": [
    "orders.head()"
   ]
  },
  {
   "cell_type": "code",
   "execution_count": null,
   "id": "d30f53d7",
   "metadata": {},
   "outputs": [],
   "source": []
  },
  {
   "cell_type": "markdown",
   "id": "73395309",
   "metadata": {},
   "source": [
    "# Number of unique customers"
   ]
  },
  {
   "cell_type": "code",
   "execution_count": 26,
   "id": "7596c395",
   "metadata": {},
   "outputs": [
    {
     "name": "stdout",
     "output_type": "stream",
     "text": [
      "98262\n"
     ]
    }
   ],
   "source": [
    "num_unique_customers = orders['sequential_user_id'].nunique()\n",
    "print(num_unique_customers)"
   ]
  },
  {
   "cell_type": "code",
   "execution_count": 27,
   "id": "7cc60b80",
   "metadata": {},
   "outputs": [
    {
     "data": {
      "text/plain": [
       "635"
      ]
     },
     "execution_count": 27,
     "metadata": {},
     "output_type": "execute_result"
    }
   ],
   "source": [
    "orders['total_orders'].max()"
   ]
  },
  {
   "cell_type": "markdown",
   "id": "ef477e70",
   "metadata": {},
   "source": [
    "# DATA VISUALIZATION"
   ]
  },
  {
   "cell_type": "code",
   "execution_count": 28,
   "id": "6f435079",
   "metadata": {},
   "outputs": [
    {
     "data": {
      "image/png": "[encoded data removed]",
      "text/plain": [
       "<Figure size 800x600 with 1 Axes>"
      ]
     },
     "metadata": {},
     "output_type": "display_data"
    }
   ],
   "source": [
    "import matplotlib.pyplot as plt\n",
    "from sklearn.preprocessing import MinMaxScaler\n",
    "\n",
    "# Scaling the features\n",
    "scaler = MinMaxScaler()\n",
    "scaled_data = scaler.fit_transform(orders[['price_total_spent', 'total_orders']])\n",
    "orders['price_total_spent_scaled'] = scaled_data[:, 0]\n",
    "orders['total_orders_scaled'] = scaled_data[:, 1]\n",
    "\n",
    "# Plotting the scaled data\n",
    "plt.figure(figsize=(8, 6))\n",
    "plt.scatter(orders['price_total_spent_scaled'], orders['total_orders_scaled'], alpha=0.5)\n",
    "plt.title('Total Orders vs Price Total Spent (Scaled)')\n",
    "plt.xlabel('Price Total Spent (Scaled)')\n",
    "plt.ylabel('Total Orders (Scaled)')\n",
    "plt.grid(True)\n",
    "plt.show()\n"
   ]
  },
  {
   "cell_type": "code",
   "execution_count": 29,
   "id": "5a81916e",
   "metadata": {},
   "outputs": [
    {
     "data": {
      "text/plain": [
       "<Figure size 640x480 with 0 Axes>"
      ]
     },
     "metadata": {},
     "output_type": "display_data"
    }
   ],
   "source": [
    "plt.savefig('graph.jpg', format='jpg')"
   ]
  },
  {
   "cell_type": "markdown",
   "id": "8f7f204f",
   "metadata": {},
   "source": [
    "# CORRELATION ANALYSIS"
   ]
  },
  {
   "cell_type": "code",
   "execution_count": 30,
   "id": "9bf85f4f",
   "metadata": {},
   "outputs": [
    {
     "name": "stdout",
     "output_type": "stream",
     "text": [
      "Correlation Matrix:\n",
      "                   price_total_spent  total_orders\n",
      "price_total_spent           1.000000      0.931138\n",
      "total_orders                0.931138      1.000000\n"
     ]
    }
   ],
   "source": [
    "selected_columns = ['price_total_spent', 'total_orders']\n",
    "correlation_matrix = orders[selected_columns].corr()\n",
    "print(\"Correlation Matrix:\")\n",
    "print(correlation_matrix)"
   ]
  },
  {
   "cell_type": "code",
   "execution_count": 31,
   "id": "832d18a1",
   "metadata": {},
   "outputs": [
    {
     "data": {
      "image/png": "[encoded data removed]",
      "text/plain": [
       "<Figure size 800x600 with 2 Axes>"
      ]
     },
     "metadata": {},
     "output_type": "display_data"
    }
   ],
   "source": [
    "# Visualizing correlation matrix \n",
    "import seaborn as sns\n",
    "plt.figure(figsize=(8, 6))\n",
    "sns.heatmap(correlation_matrix, annot=True, cmap='coolwarm', fmt=\".2f\")\n",
    "plt.title('Correlation Matrix')\n",
    "plt.show()"
   ]
  },
  {
   "cell_type": "markdown",
   "id": "c5020ba5",
   "metadata": {},
   "source": [
    "# CACULATING RMF SCORE"
   ]
  },
  {
   "cell_type": "markdown",
   "id": "aab83e85",
   "metadata": {},
   "source": [
    "# Scaling the features from 1 to 2 in order to calculate accurate priority scores"
   ]
  },
  {
   "cell_type": "code",
   "execution_count": 33,
   "id": "bd27fd1f",
   "metadata": {},
   "outputs": [],
   "source": [
    "from sklearn.cluster import KMeans\n",
    "from sklearn.preprocessing import StandardScaler\n",
    "\n",
    "features = ['total_orders', 'price_total_spent']\n",
    "\n",
    "data = orders[features]\n",
    "\n",
    "scaler = StandardScaler()\n",
    "\n",
    "scaled_data = scaler.fit_transform(data)\n",
    "\n",
    "scaled_data = (scaled_data + 1) / 2\n"
   ]
  },
  {
   "cell_type": "markdown",
   "id": "9c6b28bc",
   "metadata": {},
   "source": [
    "# K Means Clustering\n",
    "Finding the best value of k using Elbow-Method"
   ]
  },
  {
   "cell_type": "code",
   "execution_count": 34,
   "id": "7eef4c81",
   "metadata": {},
   "outputs": [
    {
     "data": {
      "image/png": "[encoded data removed]",
      "text/plain": [
       "<Figure size 640x480 with 1 Axes>"
      ]
     },
     "metadata": {},
     "output_type": "display_data"
    }
   ],
   "source": [
    "import warnings\n",
    "warnings.filterwarnings('ignore')\n",
    "\n",
    "wcss = []\n",
    "for i in range(1, 11):\n",
    "    kmeans = KMeans(n_clusters=i, init='k-means++', random_state=42)\n",
    "    kmeans.fit(scaled_data)\n",
    "    wcss.append(kmeans.inertia_)\n",
    "\n",
    "# Plotting the elbow curve\n",
    "plt.plot(range(1, 11), wcss, marker='o', linestyle='--')\n",
    "plt.title('Elbow Method')\n",
    "plt.xlabel('Number of Clusters')\n",
    "plt.ylabel('WCSS')  # Within-Cluster Sum of Squares\n",
    "plt.show()\n"
   ]
  },
  {
   "cell_type": "code",
   "execution_count": 35,
   "id": "05b878e1",
   "metadata": {},
   "outputs": [],
   "source": [
    "k = 3  #selecting clusters based on the elbow curve\n",
    "# Perform K-means clustering\n",
    "kmeans = KMeans(n_clusters=k, init='k-means++', random_state=42)\n",
    "clusters = kmeans.fit_predict(scaled_data)\n",
    "\n",
    "# Add cluster labels to the DataFrame\n",
    "data['Cluster'] = clusters"
   ]
  },
  {
   "cell_type": "code",
   "execution_count": 36,
   "id": "d44cc38b",
   "metadata": {},
   "outputs": [
    {
     "data": {
      "image/png": "[encoded data removed]",
      "text/plain": [
       "<Figure size 800x600 with 1 Axes>"
      ]
     },
     "metadata": {},
     "output_type": "display_data"
    }
   ],
   "source": [
    "# Visualizing the clusters\n",
    "plt.figure(figsize=(8, 6))\n",
    "for cluster in range(k):\n",
    "    cluster_data = data[data['Cluster'] == cluster]\n",
    "    plt.scatter(cluster_data['total_orders'], cluster_data['price_total_spent'], label=f'Cluster {cluster}')\n",
    "plt.scatter(kmeans.cluster_centers_[:, 0], kmeans.cluster_centers_[:, 1], s=300, c='red', label='Centroids')\n",
    "plt.title('Clusters of Customers')\n",
    "plt.xlabel('Total Orders')\n",
    "plt.ylabel('Price Total Spent')\n",
    "plt.legend()\n",
    "plt.grid(True)\n",
    "plt.show()\n"
   ]
  },
  {
   "cell_type": "code",
   "execution_count": 37,
   "id": "ccda2044",
   "metadata": {},
   "outputs": [
    {
     "name": "stdout",
     "output_type": "stream",
     "text": [
      "Cluster with highest spending: 1\n",
      "Centroid values for cluster 1: [  224.29797841 30678.73591681]\n"
     ]
    }
   ],
   "source": [
    "# Calculating cluster centroids\n",
    "centroids = scaler.inverse_transform(kmeans.cluster_centers_)\n",
    "\n",
    "# Finding the cluster with the highest average values for total_orders and price_total_spent\n",
    "cluster_with_highest_spending = centroids[:, 1].argmax()\n",
    "\n",
    "# Printing cluster number and centroid values\n",
    "print(f\"Cluster with highest spending: {cluster_with_highest_spending}\")\n",
    "print(f\"Centroid values for cluster {cluster_with_highest_spending}: {centroids[cluster_with_highest_spending]}\")\n"
   ]
  },
  {
   "cell_type": "code",
   "execution_count": null,
   "id": "88e9db21",
   "metadata": {},
   "outputs": [],
   "source": []
  },
  {
   "cell_type": "code",
   "execution_count": 38,
   "id": "b5f422a9",
   "metadata": {},
   "outputs": [
    {
     "name": "stdout",
     "output_type": "stream",
     "text": [
      "Cluster Means:\n",
      "         total_orders  price_total_spent\n",
      "Cluster                                 \n",
      "0            3.661002         893.577795\n",
      "1          416.614035       56322.582632\n",
      "2          138.559876       22506.468507\n"
     ]
    }
   ],
   "source": [
    "orders['Cluster'] = clusters\n",
    "\n",
    "# Calculate cluster means\n",
    "cluster_means = data.groupby('Cluster').mean()\n",
    "\n",
    "# Display cluster means\n",
    "print(\"Cluster Means:\")\n",
    "print(cluster_means)"
   ]
  },
  {
   "cell_type": "markdown",
   "id": "535c463f",
   "metadata": {},
   "source": [
    "# Calculate priority scores"
   ]
  },
  {
   "cell_type": "markdown",
   "id": "29704cc7",
   "metadata": {},
   "source": [
    "The priority score for ith row: <br>\n",
    "P(i) = w(c)*(N(i) + S(i)) <br>\n",
    "where, <br>\n",
    "w(c)=weight assigned to the cluster <br>\n",
    "N(i)=total orders of ith row/cluster mean of total orders <br>\n",
    "S(i)=total spent of ith row/cluster mean of total spent <br>"
   ]
  },
  {
   "cell_type": "code",
   "execution_count": 39,
   "id": "59115836",
   "metadata": {},
   "outputs": [],
   "source": [
    "import numpy as np\n",
    "import pandas as pd\n",
    "\n",
    "def calculate_priority_score(data, cluster_means, weights):\n",
    "   \n",
    "    priority_scores = []\n",
    "    for index, row in data.iterrows():\n",
    "        cluster = row['Cluster']\n",
    "        total_orders = row['total_orders']\n",
    "        price_total_spent = row['price_total_spent']\n",
    "        cluster_mean_orders = cluster_means.loc[cluster, 'total_orders']\n",
    "        cluster_mean_spent = cluster_means.loc[cluster, 'price_total_spent']\n",
    "        weight = weights.get(cluster, 0)  # Get weight assigned to the cluster (default to 0 if not found)\n",
    "        # Normalize values (assuming higher values are better)\n",
    "        norm_orders = total_orders / cluster_mean_orders\n",
    "        norm_spent = price_total_spent / cluster_mean_spent\n",
    "        # Calculate priority score\n",
    "        priority_score = weight * (norm_orders + norm_spent)\n",
    "        priority_scores.append(priority_score)\n",
    "    # Add priority scores to the DataFrame\n",
    "    data['priority_score'] = priority_scores\n",
    "    return pd.Series(priority_scores, index=data.index)\n"
   ]
  },
  {
   "cell_type": "markdown",
   "id": "cad6fbc4",
   "metadata": {},
   "source": [
    "The updated weight for cluster c: <br>\n",
    "w(c)' = w(c) + learning_rate * (P(i)-target)<br>\n"
   ]
  },
  {
   "cell_type": "code",
   "execution_count": 40,
   "id": "fc5331c6",
   "metadata": {},
   "outputs": [],
   "source": [
    "def update_weights(data, cluster_means, weights, learning_rate):\n",
    "   \n",
    "    priority_scores = calculate_priority_score(data, cluster_means, weights)\n",
    "    # Calculating average priority score for each cluster\n",
    "    cluster_scores = data.groupby('Cluster')['priority_score'].mean()\n",
    "    # Updating weights based on the difference between cluster scores and the target values\n",
    "    updated_weights = {}\n",
    "    for cluster in weights:\n",
    "        updated_weights[cluster] = weights[cluster] + learning_rate * (cluster_scores[cluster] - target_values[cluster])\n",
    "    return updated_weights\n",
    "\n",
    "# Defining initial weights\n",
    "weights = {\n",
    "    0: 0.8,\n",
    "    1: 1.0,\n",
    "    2: 0.9,\n",
    "}\n",
    "\n",
    "target_values = {\n",
    "    0: 0.85,\n",
    "    1: 0.9,\n",
    "    2: 0.88,\n",
    "}\n"
   ]
  },
  {
   "cell_type": "code",
   "execution_count": 41,
   "id": "cc2083bb",
   "metadata": {},
   "outputs": [
    {
     "name": "stdout",
     "output_type": "stream",
     "text": [
      "29638    99.704968\n",
      "30758    96.673155\n",
      "31288    94.010258\n",
      "89458    93.539071\n",
      "52469    91.089480\n",
      "           ...    \n",
      "11269     0.750314\n",
      "11848     0.750314\n",
      "20157     0.750314\n",
      "20024     0.750314\n",
      "13506     0.750314\n",
      "Length: 98262, dtype: float64\n"
     ]
    }
   ],
   "source": [
    "learning_rate = 0.1\n",
    "num_iterations=10\n",
    "\n",
    "# Performing iterations of the feedback loop\n",
    "for i in range(num_iterations):\n",
    "    # Updating weights\n",
    "    weights = update_weights(orders, cluster_means, weights, learning_rate)\n",
    "\n",
    "# Calculating final priority scores\n",
    "priority_scores = calculate_priority_score(orders, cluster_means, weights)\n",
    "\n",
    "# Ranking customers by priority score\n",
    "priority_ranking = priority_scores.sort_values(ascending=False)\n",
    "print(priority_ranking)\n"
   ]
  },
  {
   "cell_type": "code",
   "execution_count": null,
   "id": "116fdbd5",
   "metadata": {},
   "outputs": [],
   "source": []
  }
 ],
 "metadata": {
  "kernelspec": {
   "display_name": "Python 3 (ipykernel)",
   "language": "python",
   "name": "python3"
  },
  "language_info": {
   "codemirror_mode": {
    "name": "ipython",
    "version": 3
   },
   "file_extension": ".py",
   "mimetype": "text/x-python",
   "name": "python",
   "nbconvert_exporter": "python",
   "pygments_lexer": "ipython3",
   "version": "3.11.5"
  }
 },
 "nbformat": 4,
 "nbformat_minor": 5
}
